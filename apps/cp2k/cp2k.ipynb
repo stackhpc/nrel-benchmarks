{
 "cells": [
  {
   "cell_type": "markdown",
   "metadata": {},
   "source": [
    "# CP2K - H2O-256\n",
    "\n",
    "Results from the [CP2K](https://www.cp2k.org/) quantum chemistry and solid state physics package for atomistic simulations using the H20-256 benchmark distributed with the source code."
   ]
  },
  {
   "cell_type": "code",
   "execution_count": null,
   "metadata": {},
   "outputs": [],
   "source": [
    "# Plotting setup\n",
    "%matplotlib inline\n",
    "import matplotlib.pyplot as plt\n",
    "from matplotlib import ticker\n",
    "from IPython.display import display, display_markdown\n",
    "\n",
    "import pandas as pd\n",
    "import os, sys\n",
    "from pprint import pprint\n",
    "sys.path.extend(('../../reframe', '../../')) # the `modules` package imports `reframe` so need that in sys.modules\n",
    "import modules"
   ]
  },
  {
   "cell_type": "markdown",
   "metadata": {},
   "source": [
    "# Performance vs number of nodes\n",
    "\n",
    "The benchmark is run on a range of nodes using as many processes as there are physical cores on each node. The plots show results for the most-recent run on each system/partition/environment combination. They show:\n",
    "- `runtime_real`: time for the entire MPI job\n",
    "- `cp2k_time`: time for the CP2K subroutine, as measured by CP2K itself (`\"Total Max\"` in output file)\n",
    "\n",
    "Both of these are wallclock time in seconds, with lower values being better performance. "
   ]
  },
  {
   "cell_type": "code",
   "execution_count": null,
   "metadata": {},
   "outputs": [],
   "source": [
    "print(pd.__version__)\n",
    "\n",
    "for var in ['runtime_real', 'cp2k_time']:\n",
    "    df = modules.utils.tabulate_last_perf('Cp2k_H2O_256_*', 'num_nodes', var)\n",
    "    \n",
    "    title = 'Cp2k_H2O_256: %s' % var\n",
    "    display_markdown('### %s' % title, raw=True)\n",
    "    \n",
    "    ax = df.plot(grid=True, style='o-')#, secondary_y=[c for c in df.columns if 'scaling' in c])\n",
    "    ax.set_xlabel('number of nodes')\n",
    "    ax.set_ylabel('wallclock time (s)')\n",
    "    ax.set_title(title)\n",
    "    plt.tight_layout()\n",
    "    \n",
    "    scaling = (df.iloc[0] / df)\n",
    "    scaling_ax = scaling.plot(grid=True, style='o-',\n",
    "                              title='%s - scaling' % title, xlabel='number of nodes', ylabel='performance c.f. 1x node')\n",
    "    plt.tight_layout()    \n",
    "    \n",
    "    modules.plots.add_roce_ib_factor(df)\n",
    "    display(df)\n",
    "    "
   ]
  },
  {
   "cell_type": "code",
   "execution_count": null,
   "metadata": {},
   "outputs": [],
   "source": []
  },
  {
   "cell_type": "code",
   "execution_count": null,
   "metadata": {},
   "outputs": [],
   "source": []
  }
 ],
 "metadata": {
  "kernelspec": {
   "display_name": "Python 3",
   "language": "python",
   "name": "python3"
  },
  "language_info": {
   "codemirror_mode": {
    "name": "ipython",
    "version": 3
   },
   "file_extension": ".py",
   "mimetype": "text/x-python",
   "name": "python",
   "nbconvert_exporter": "python",
   "pygments_lexer": "ipython3",
   "version": "3.9.2"
  }
 },
 "nbformat": 4,
 "nbformat_minor": 4
}
